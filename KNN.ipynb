{
 "cells": [
  {
   "cell_type": "code",
   "execution_count": 7,
   "metadata": {},
   "outputs": [],
   "source": [
    "import numpy as np\n",
    "import pandas as pd\n",
    "from sklearn.model_selection import train_test_split\n",
    "from sklearn.model_selection import cross_val_score\n",
    "from sklearn.neighbors import KNeighborsClassifier\n",
    "from sklearn import datasets\n",
    "from sklearn.metrics import accuracy_score\n",
    "from sklearn.model_selection import KFold"
   ]
  },
  {
   "cell_type": "code",
   "execution_count": 6,
   "metadata": {},
   "outputs": [
    {
     "name": "stdout",
     "output_type": "stream",
     "text": [
      "(150, 4)\n",
      "(150,)\n"
     ]
    }
   ],
   "source": [
    "data_iris=datasets.load_iris()\n",
    "X=data_iris.data\n",
    "Y=data_iris.target\n",
    "print(X.shape)\n",
    "print(Y.shape)"
   ]
  },
  {
   "cell_type": "code",
   "execution_count": 8,
   "metadata": {},
   "outputs": [
    {
     "name": "stdout",
     "output_type": "stream",
     "text": [
      "(105, 4)\n",
      "(105,)\n"
     ]
    }
   ],
   "source": [
    "X_train,X_test,Y_train,Y_test=train_test_split(X,Y,test_size=0.3,random_state=0)\n",
    "print(X_train.shape)\n",
    "print(Y_train.shape)"
   ]
  },
  {
   "cell_type": "markdown",
   "metadata": {},
   "source": [
    "## Finding the best value of K for KNN"
   ]
  },
  {
   "cell_type": "code",
   "execution_count": 13,
   "metadata": {},
   "outputs": [],
   "source": [
    "import matplotlib.pyplot as plt"
   ]
  },
  {
   "cell_type": "code",
   "execution_count": 19,
   "metadata": {},
   "outputs": [
    {
     "data": {
      "image/png": "[encoded data removed]",
      "text/plain": [
       "<Figure size 432x288 with 1 Axes>"
      ]
     },
     "metadata": {},
     "output_type": "display_data"
    }
   ],
   "source": [
    "## Find the value of K where the accuracy is most\n",
    "##We will Plot the simple graph\n",
    "## We take odd value of K so there is no tie in result\n",
    "X=[]\n",
    "Y=[]\n",
    "for i in range(1,26,2):\n",
    "    clf=KNeighborsClassifier(n_neighbors=i)\n",
    "    score=cross_val_score(clf,X_train,Y_train)\n",
    "    X.append(i);\n",
    "    Y.append(score.mean())\n",
    "    ##print(i,score.mean())\n",
    "plt.plot(X,Y)\n",
    "plt.scatter(X,Y)\n",
    "plt.xlabel(\"K\")\n",
    "plt.ylabel(\"Accuracy Score\")\n",
    "plt.show()"
   ]
  },
  {
   "cell_type": "markdown",
   "metadata": {},
   "source": [
    "## As we see the K=9 as maximum accuracy"
   ]
  },
  {
   "cell_type": "code",
   "execution_count": 22,
   "metadata": {},
   "outputs": [
    {
     "name": "stdout",
     "output_type": "stream",
     "text": [
      "0.9777777777777777\n"
     ]
    }
   ],
   "source": [
    "## Train the Classifier with n_neighbors=9\n",
    "clf=KNeighborsClassifier(n_neighbors=9)\n",
    "clf.fit(X_train,Y_train)\n",
    "Y_test_predict=clf.predict(X_test)\n",
    "print(accuracy_score(Y_test,Y_test_predict))"
   ]
  },
  {
   "cell_type": "markdown",
   "metadata": {},
   "source": [
    "## Implement the KNN with Force Brute Search"
   ]
  },
  {
   "cell_type": "code",
   "execution_count": 26,
   "metadata": {},
   "outputs": [],
   "source": [
    "##In Force Brute Search we don't need Fit Function\n",
    "## As we process it at Testing Time\n",
    "from collections import Counter"
   ]
  },
  {
   "cell_type": "code",
   "execution_count": 59,
   "metadata": {},
   "outputs": [],
   "source": [
    "def predictSinglePoint(X_train,Y_train,single_data,K):\n",
    "    distance=[]\n",
    "    for i in range(len(X_train)):\n",
    "        ## Here we take eucleidian distance i.e P=2\n",
    "        ## i signify the training set \n",
    "        single_training_distance=((X_train[i,:]-single_data)**2).sum()\n",
    "        distance.append([single_training_distance,i])\n",
    "    ## Now Sort the distance to get K maximum training set\n",
    "    distance=sorted(distance)\n",
    "    Y_predicted=[]\n",
    "    for i in range(K):\n",
    "        single_training_data=distance[i][1]\n",
    "        Y_predicted.append(Y_train[single_training_data])\n",
    "    ## We have to count which Y value is maximum in Y_predicted to get acutal Y_predict\n",
    "    ## So we use Counter to get the value\n",
    "    ## most_common gives the all values and its count\n",
    "    ##But we want only maximum value so most_common(1)\n",
    "    ##From that tuple we choose first element most_common(1)[0]\n",
    "    ##We have choose the value not count so most_common(1)[0][0]\n",
    "    Y_single=Counter(Y_predicted).most_common(1)[0][0]\n",
    "    return Y_single"
   ]
  },
  {
   "cell_type": "code",
   "execution_count": 55,
   "metadata": {},
   "outputs": [],
   "source": [
    "def predict(X_train,Y_train,X_test,K):\n",
    "    Y_test_predict=[]\n",
    "    for single_data in X_test:\n",
    "        Y_single_data=predictSinglePoint(X_train,Y_train,single_data,K)\n",
    "        Y_test_predict.append(Y_single_data)\n",
    "    return Y_test_predict    "
   ]
  },
  {
   "cell_type": "code",
   "execution_count": 60,
   "metadata": {},
   "outputs": [
    {
     "name": "stdout",
     "output_type": "stream",
     "text": [
      "0.9777777777777777\n"
     ]
    }
   ],
   "source": [
    "Y_test_predict_Force=predict(X_train,Y_train,X_test,9)\n",
    "print(accuracy_score(Y_test,Y_test_predict_Force))"
   ]
  },
  {
   "cell_type": "markdown",
   "metadata": {},
   "source": [
    "## Both have same accuracy Score"
   ]
  },
  {
   "cell_type": "code",
   "execution_count": null,
   "metadata": {},
   "outputs": [],
   "source": []
  }
 ],
 "metadata": {
  "kernelspec": {
   "display_name": "Python 3",
   "language": "python",
   "name": "python3"
  },
  "language_info": {
   "codemirror_mode": {
    "name": "ipython",
    "version": 3
   },
   "file_extension": ".py",
   "mimetype": "text/x-python",
   "name": "python",
   "nbconvert_exporter": "python",
   "pygments_lexer": "ipython3",
   "version": "3.6.5"
  }
 },
 "nbformat": 4,
 "nbformat_minor": 2
}
